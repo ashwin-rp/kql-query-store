{
 "cells": [
  {
   "cell_type": "markdown",
   "id": "fed640c5-2ebf-475b-a708-07c7d89bfe52",
   "metadata": {},
   "source": [
    "## KQL Query Harvester from multiple data sources"
   ]
  },
  {
   "cell_type": "code",
   "execution_count": 38,
   "id": "cf5c8c53-8a2a-4443-884b-6106fe913723",
   "metadata": {},
   "outputs": [],
   "source": [
    "import logging\n",
    "from pathlib import Path\n",
    "import requests\n",
    "import io\n",
    "import zipfile\n",
    "from requests.exceptions import HTTPError\n",
    "import glob\n",
    "import pandas as pd\n",
    "import yaml\n",
    "from pandas import json_normalize\n",
    "import urllib.parse\n",
    "import json\n",
    "from pprint import pprint\n",
    "\n",
    "def read_config(filename):\n",
    "    with open(filename, \"r\") as yamlfile:\n",
    "        data = yaml.load(yamlfile, Loader=yaml.FullLoader)\n",
    "    \n",
    "    return data\n",
    "\n",
    "def get_repo_urls(repo_name, branch_name):\n",
    "    git_repo_url = f'https://github.com/{repo_name}/archive/{branch_name}.zip'\n",
    "    \n",
    "    return git_repo_url\n",
    "\n",
    "def download_git_archive(git_url, output_dir):\n",
    "    print(f\"Downloading {git_url}, may take few mins..\")\n",
    "    try:\n",
    "        r = requests.get(git_url)\n",
    "        repo_zip = io.BytesIO(r.content)\n",
    "        archive = zipfile.ZipFile(repo_zip, mode=\"r\")\n",
    "        for file in archive.namelist():\n",
    "            archive.extract(file, path=output_dir)\n",
    "        print(\"Downloaded and Extracted Files successfully\")\n",
    "    except HTTPError as http_err:\n",
    "        warnings.warn(f\"HTTP error occurred trying to download from Github: {http_err}\")\n",
    "        \n",
    "def get_sentinel_queries_from_github(git_url, outputdir):\n",
    "    print(\"Downloading from Azure Sentinel Github, may take 2-3 mins..\")\n",
    "    try:\n",
    "        r = requests.get(git_url)\n",
    "        repo_zip = io.BytesIO(r.content)\n",
    "        archive = zipfile.ZipFile(repo_zip, mode=\"r\")\n",
    "        # Only extract Detections and Hunting Queries Folder\n",
    "        for file in archive.namelist():\n",
    "            if (file.startswith((\"Azure-Sentinel-master/Detections/\",\"Azure-Sentinel-master/Hunting Queries/\",\"Azure-Sentinel-master/Solutions/\")) and file.endswith(\".yaml\")):\n",
    "                archive.extract(file, path=outputdir)\n",
    "        print(\"Downloaded and Extracted Files successfully\")\n",
    "    except HTTPError as http_err:\n",
    "        warnings.warn(f\"HTTP error occurred trying to download from Github: {http_err}\")\n",
    "        \n",
    "def parse_yaml(parent_dir, child_dir):\n",
    "\n",
    "    sentinel_repourl = \"https://github.com/Azure/Azure-Sentinel/blob/master\"\n",
    "    bad_yamls = ['/home/jovyan/work/Hackathon/kql-query-store/dev-notebooks/Azure-Sentinel-master/Hunting Queries/Microsoft 365 Defender/Device Inventory/Find Software By Name and Version.yaml']\n",
    "    # Collect list of files recusrively under a folder\n",
    "    yaml_queries = glob.glob(f\"{parent_dir}/{child_dir}/**/*.yaml\", recursive=True)\n",
    "    \n",
    "    yaml_queries = [query for query in yaml_queries if query not in bad_yamls]\n",
    "    \n",
    "    df = pd.DataFrame()\n",
    "\n",
    "    # Recursively load yaml Files and append to dataframe\n",
    "    for query in yaml_queries:\n",
    "        with open(query, \"r\", encoding=\"utf-8\", errors=\"ignore\") as f:\n",
    "            parsed_yaml_df = json_normalize(yaml.load(f, Loader=yaml.FullLoader))\n",
    "            parsed_yaml_df[\"GithubURL\"] = urllib.parse.quote(query.replace(parent_dir, sentinel_repourl), safe=':/')\n",
    "            # #URL encode\n",
    "            # parsed_yaml_df[\"GithubURL\"] = urllib.parse.quote(parsed_yaml_df[\"GithubURL\"], safe=':/')\n",
    "            # parsed_yaml_df = parsed_yaml_df[columns]\n",
    "            frames = [df, parsed_yaml_df]\n",
    "            df = pd.concat(frames, ignore_index=True, sort=True)\n",
    "\n",
    "    return df\n",
    "\n",
    "def parse_kql_to_dict(repo_name, branch_name, src_path):\n",
    "    parent_dir = src_path + f\"/{repo_name.split('/')[-1]}-{branch_name}\"\n",
    "    kql_files = glob.glob(f\"{parent_dir}/**/*.kql\", recursive=True)\n",
    "    \n",
    "    git_repo_url = f'https://github.com/{repo_name}/tree/main'\n",
    "\n",
    "    list_of_kql_files_dict = []\n",
    "    for file in kql_files:\n",
    "        with open(file, \"r\", encoding=\"utf-8\", errors=\"ignore\") as f:\n",
    "            file_path = Path(file)\n",
    "            content = json.dumps(f.read())\n",
    "\n",
    "            kql_files_dict = dict()\n",
    "            kql_files_dict['query'] = content\n",
    "            kql_files_dict['source_path'] = urllib.parse.quote(str(file_path).replace(parent_dir, git_repo_url), safe=':/')\n",
    "            kql_files_dict['query_name'] = file_path.stem\n",
    "            kql_files_dict['attributes'] = {}\n",
    "            list_of_kql_files_dict.append(kql_files_dict)\n",
    "    \n",
    "    return list_of_kql_files_dict\n",
    "\n",
    "def parse_markdown_to_dict(repo_name, branch_name, src_path):\n",
    "    parent_dir = src_path + f\"/{repo_name.split('/')[-1]}-{branch_name}\"\n",
    "    md_files = glob.glob(f\"{parent_dir}/**/*.md\", recursive=True)\n",
    "    print(f\"Processing {len(md_files)} markdonw files from repo: {repo_name}\")\n",
    "    git_repo_url = f'https://github.com/{repo_name}/tree/main'\n",
    "\n",
    "    df = pd.DataFrame(columns=['query_name', 'query', 'source_path'])\n",
    "    src_path_list = []\n",
    "    for file in md_files:\n",
    "        with open(file, \"r\", encoding=\"utf-8\", errors=\"ignore\") as f:\n",
    "            file_path = Path(file)\n",
    "            lines = Path(file).read_text(encoding=\"utf-8\").split('\\n')\n",
    "\n",
    "            ct = 0\n",
    "            kql = False\n",
    "            kql_collect = []\n",
    "            title_collect = []\n",
    "            cur_kql = []\n",
    "            title = \"n/a\"\n",
    "            while ct < len(lines):\n",
    "                if kql:\n",
    "                    cur_kql.append(lines[ct])\n",
    "                if (lines[ct].startswith(\"#\") and lines[ct+2] == \"```kql\"):\n",
    "                    kql = True\n",
    "                    title = lines[ct]\n",
    "                elif  (lines[ct] == \"```kql\"):\n",
    "                    kql = True\n",
    "                elif lines[ct] == \"```\":\n",
    "                    kql = False\n",
    "                    cur_kql = \"\\n\".join(cur_kql)\n",
    "                    kql_collect.append(cur_kql)\n",
    "                    title_collect.append(title)\n",
    "                    title = \"n/a\"\n",
    "                    cur_kql = []\n",
    "                ct+=1\n",
    "                src_path = urllib.parse.quote(str(file_path).replace(parent_dir, git_repo_url), safe=':/')\n",
    "                src_path_list.append(src_path)\n",
    "            test_df = pd.DataFrame(list(zip(title_collect, kql_collect, src_path_list)), columns=['query_name', 'query', 'source_path'])\n",
    "\n",
    "            df = pd.concat([df, test_df])\n",
    "            \n",
    "    return df.to_dict(orient=\"records\")"
   ]
  },
  {
   "cell_type": "markdown",
   "id": "9f8ca2e7-f404-4559-a197-fcdbb0fe4abc",
   "metadata": {},
   "source": [
    "### YAML - Azure Sentinel Githubs"
   ]
  },
  {
   "cell_type": "code",
   "execution_count": 2,
   "id": "c0cafb7a-f922-4612-94b0-9773aeb83b58",
   "metadata": {},
   "outputs": [
    {
     "name": "stdout",
     "output_type": "stream",
     "text": [
      "Downloading from Azure Sentinel Github, may take 2-3 mins..\n",
      "Downloaded and Extracted Files successfully\n"
     ]
    }
   ],
   "source": [
    "output_dir = Path.cwd()\n",
    "# download sentinel github and extract yaml files only\n",
    "azsentinel_git_url = \"https://github.com/Azure/Azure-Sentinel/archive/master.zip\"\n",
    "get_sentinel_queries_from_github(git_url=azsentinel_git_url, outputdir=output_dir)"
   ]
  },
  {
   "cell_type": "code",
   "execution_count": 5,
   "id": "53840999-b4fe-4478-9ee9-c5a47d4dc1bc",
   "metadata": {},
   "outputs": [
    {
     "name": "stdout",
     "output_type": "stream",
     "text": [
      " Detections: 434 Hunting Queries: 822 Solutions: 1177\n",
      " Post Filtering with null queries:  Detections: 363 Hunting Queries: 789 Solutions: 1174\n"
     ]
    }
   ],
   "source": [
    "# Parsing yaml files and converting to dataframe\n",
    "tmp_path = str(Path.cwd())\n",
    "\n",
    "base_dir = tmp_path + \"/Azure-Sentinel-master\"\n",
    "detections_df = parse_yaml(parent_dir=base_dir, child_dir=\"Detections\")\n",
    "hunting_df = parse_yaml(parent_dir=base_dir, child_dir=\"Hunting Queries\")\n",
    "solutions_df = parse_yaml(parent_dir=base_dir, child_dir=\"Solutions\")\n",
    "\n",
    "print(f\" Detections: {len(detections_df)} Hunting Queries: {len(hunting_df)} Solutions: {len(solutions_df)}\")\n",
    "\n",
    " # Filtering yamls with no KQL queries\n",
    "detections_df = detections_df[detections_df[\"query\"].notnull()]\n",
    "hunting_df = hunting_df[hunting_df[\"query\"].notnull()]\n",
    "solutions_df = solutions_df[solutions_df[\"query\"].notnull()]\n",
    "\n",
    "print(f\" Post Filtering with null queries:  Detections: {len(detections_df)} Hunting Queries: {len(hunting_df)} Solutions: {len(solutions_df)}\")"
   ]
  },
  {
   "cell_type": "code",
   "execution_count": 7,
   "id": "7272bc76-fe53-4db2-b26c-612780cf7eb2",
   "metadata": {},
   "outputs": [
    {
     "data": {
      "text/html": [
       "<div>\n",
       "<style scoped>\n",
       "    .dataframe tbody tr th:only-of-type {\n",
       "        vertical-align: middle;\n",
       "    }\n",
       "\n",
       "    .dataframe tbody tr th {\n",
       "        vertical-align: top;\n",
       "    }\n",
       "\n",
       "    .dataframe thead th {\n",
       "        text-align: right;\n",
       "    }\n",
       "</style>\n",
       "<table border=\"1\" class=\"dataframe\">\n",
       "  <thead>\n",
       "    <tr style=\"text-align: right;\">\n",
       "      <th></th>\n",
       "      <th>source_path</th>\n",
       "      <th>description</th>\n",
       "      <th>query_name</th>\n",
       "      <th>query</th>\n",
       "      <th>techniques</th>\n",
       "      <th>tactics</th>\n",
       "    </tr>\n",
       "  </thead>\n",
       "  <tbody>\n",
       "    <tr>\n",
       "      <th>0</th>\n",
       "      <td>https://github.com/Azure/Azure-Sentinel/blob/m...</td>\n",
       "      <td>'Anomaly Rules generate events in the Anomalie...</td>\n",
       "      <td>Unusual Anomaly</td>\n",
       "      <td>// You can leave out Anomalies that are alread...</td>\n",
       "      <td>NaN</td>\n",
       "      <td>[]</td>\n",
       "    </tr>\n",
       "    <tr>\n",
       "      <th>1</th>\n",
       "      <td>https://github.com/Azure/Azure-Sentinel/blob/m...</td>\n",
       "      <td>'Identifies evidence of brute force activity a...</td>\n",
       "      <td>Brute force attack against user credentials (U...</td>\n",
       "      <td>let failureCountThreshold = 10;\\nlet successCo...</td>\n",
       "      <td>[T1110]</td>\n",
       "      <td>[CredentialAccess]</td>\n",
       "    </tr>\n",
       "    <tr>\n",
       "      <th>2</th>\n",
       "      <td>https://github.com/Azure/Azure-Sentinel/blob/m...</td>\n",
       "      <td>'This query searches for failed attempts to lo...</td>\n",
       "      <td>Potential Password Spray Attack (Uses Authenti...</td>\n",
       "      <td>let FailureThreshold = 15;\\nimAuthentication\\n...</td>\n",
       "      <td>[T1110]</td>\n",
       "      <td>[CredentialAccess]</td>\n",
       "    </tr>\n",
       "    <tr>\n",
       "      <th>3</th>\n",
       "      <td>https://github.com/Azure/Azure-Sentinel/blob/m...</td>\n",
       "      <td>'This query searches for successful user login...</td>\n",
       "      <td>User login from different countries within 3 h...</td>\n",
       "      <td>let timeframe = ago(3h);\\nlet threshold = 2;\\n...</td>\n",
       "      <td>[T1078]</td>\n",
       "      <td>[InitialAccess]</td>\n",
       "    </tr>\n",
       "    <tr>\n",
       "      <th>4</th>\n",
       "      <td>https://github.com/Azure/Azure-Sentinel/blob/m...</td>\n",
       "      <td>'Identifies IPs with failed attempts to sign i...</td>\n",
       "      <td>Sign-ins from IPs that attempt sign-ins to dis...</td>\n",
       "      <td>imAuthentication\\n| where EventResult =='Failu...</td>\n",
       "      <td>[T1078, T1098]</td>\n",
       "      <td>[InitialAccess, Persistence]</td>\n",
       "    </tr>\n",
       "  </tbody>\n",
       "</table>\n",
       "</div>"
      ],
      "text/plain": [
       "                                         source_path  \\\n",
       "0  https://github.com/Azure/Azure-Sentinel/blob/m...   \n",
       "1  https://github.com/Azure/Azure-Sentinel/blob/m...   \n",
       "2  https://github.com/Azure/Azure-Sentinel/blob/m...   \n",
       "3  https://github.com/Azure/Azure-Sentinel/blob/m...   \n",
       "4  https://github.com/Azure/Azure-Sentinel/blob/m...   \n",
       "\n",
       "                                         description  \\\n",
       "0  'Anomaly Rules generate events in the Anomalie...   \n",
       "1  'Identifies evidence of brute force activity a...   \n",
       "2  'This query searches for failed attempts to lo...   \n",
       "3  'This query searches for successful user login...   \n",
       "4  'Identifies IPs with failed attempts to sign i...   \n",
       "\n",
       "                                          query_name  \\\n",
       "0                                    Unusual Anomaly   \n",
       "1  Brute force attack against user credentials (U...   \n",
       "2  Potential Password Spray Attack (Uses Authenti...   \n",
       "3  User login from different countries within 3 h...   \n",
       "4  Sign-ins from IPs that attempt sign-ins to dis...   \n",
       "\n",
       "                                               query      techniques  \\\n",
       "0  // You can leave out Anomalies that are alread...             NaN   \n",
       "1  let failureCountThreshold = 10;\\nlet successCo...         [T1110]   \n",
       "2  let FailureThreshold = 15;\\nimAuthentication\\n...         [T1110]   \n",
       "3  let timeframe = ago(3h);\\nlet threshold = 2;\\n...         [T1078]   \n",
       "4  imAuthentication\\n| where EventResult =='Failu...  [T1078, T1098]   \n",
       "\n",
       "                        tactics  \n",
       "0                            []  \n",
       "1            [CredentialAccess]  \n",
       "2            [CredentialAccess]  \n",
       "3               [InitialAccess]  \n",
       "4  [InitialAccess, Persistence]  "
      ]
     },
     "execution_count": 7,
     "metadata": {},
     "output_type": "execute_result"
    }
   ],
   "source": [
    "# Selecting specific columns\n",
    "columns = ['name', 'GithubURL', 'query', 'description', 'tactics', 'relevantTechniques']\n",
    "all_dfs = [detections_df[columns], hunting_df[columns], solutions_df[columns]]\n",
    "sentinel_github = pd.concat(all_dfs, ignore_index=True, sort=True)\n",
    "\n",
    "#renaming to columns to match with schema\n",
    "sentinel_github.rename(columns={'GithubURL': 'source_path', 'name': 'query_name', 'relevantTechniques': 'techniques'}, inplace=True)\n",
    "\n",
    "sentinel_github.head()"
   ]
  },
  {
   "cell_type": "code",
   "execution_count": 8,
   "id": "28e75c4b-71d0-452e-9fd1-858e960a69a0",
   "metadata": {},
   "outputs": [
    {
     "data": {
      "text/html": [
       "<div>\n",
       "<style scoped>\n",
       "    .dataframe tbody tr th:only-of-type {\n",
       "        vertical-align: middle;\n",
       "    }\n",
       "\n",
       "    .dataframe tbody tr th {\n",
       "        vertical-align: top;\n",
       "    }\n",
       "\n",
       "    .dataframe thead th {\n",
       "        text-align: right;\n",
       "    }\n",
       "</style>\n",
       "<table border=\"1\" class=\"dataframe\">\n",
       "  <thead>\n",
       "    <tr style=\"text-align: right;\">\n",
       "      <th></th>\n",
       "      <th>source_path</th>\n",
       "      <th>query_name</th>\n",
       "      <th>query</th>\n",
       "      <th>attributes</th>\n",
       "    </tr>\n",
       "  </thead>\n",
       "  <tbody>\n",
       "    <tr>\n",
       "      <th>0</th>\n",
       "      <td>https://github.com/Azure/Azure-Sentinel/blob/m...</td>\n",
       "      <td>Unusual Anomaly</td>\n",
       "      <td>// You can leave out Anomalies that are alread...</td>\n",
       "      <td>{'description': ''Anomaly Rules generate event...</td>\n",
       "    </tr>\n",
       "    <tr>\n",
       "      <th>1</th>\n",
       "      <td>https://github.com/Azure/Azure-Sentinel/blob/m...</td>\n",
       "      <td>Brute force attack against user credentials (U...</td>\n",
       "      <td>let failureCountThreshold = 10;\\nlet successCo...</td>\n",
       "      <td>{'description': ''Identifies evidence of brute...</td>\n",
       "    </tr>\n",
       "    <tr>\n",
       "      <th>2</th>\n",
       "      <td>https://github.com/Azure/Azure-Sentinel/blob/m...</td>\n",
       "      <td>Potential Password Spray Attack (Uses Authenti...</td>\n",
       "      <td>let FailureThreshold = 15;\\nimAuthentication\\n...</td>\n",
       "      <td>{'description': ''This query searches for fail...</td>\n",
       "    </tr>\n",
       "    <tr>\n",
       "      <th>3</th>\n",
       "      <td>https://github.com/Azure/Azure-Sentinel/blob/m...</td>\n",
       "      <td>User login from different countries within 3 h...</td>\n",
       "      <td>let timeframe = ago(3h);\\nlet threshold = 2;\\n...</td>\n",
       "      <td>{'description': ''This query searches for succ...</td>\n",
       "    </tr>\n",
       "    <tr>\n",
       "      <th>4</th>\n",
       "      <td>https://github.com/Azure/Azure-Sentinel/blob/m...</td>\n",
       "      <td>Sign-ins from IPs that attempt sign-ins to dis...</td>\n",
       "      <td>imAuthentication\\n| where EventResult =='Failu...</td>\n",
       "      <td>{'description': ''Identifies IPs with failed a...</td>\n",
       "    </tr>\n",
       "  </tbody>\n",
       "</table>\n",
       "</div>"
      ],
      "text/plain": [
       "                                         source_path  \\\n",
       "0  https://github.com/Azure/Azure-Sentinel/blob/m...   \n",
       "1  https://github.com/Azure/Azure-Sentinel/blob/m...   \n",
       "2  https://github.com/Azure/Azure-Sentinel/blob/m...   \n",
       "3  https://github.com/Azure/Azure-Sentinel/blob/m...   \n",
       "4  https://github.com/Azure/Azure-Sentinel/blob/m...   \n",
       "\n",
       "                                          query_name  \\\n",
       "0                                    Unusual Anomaly   \n",
       "1  Brute force attack against user credentials (U...   \n",
       "2  Potential Password Spray Attack (Uses Authenti...   \n",
       "3  User login from different countries within 3 h...   \n",
       "4  Sign-ins from IPs that attempt sign-ins to dis...   \n",
       "\n",
       "                                               query  \\\n",
       "0  // You can leave out Anomalies that are alread...   \n",
       "1  let failureCountThreshold = 10;\\nlet successCo...   \n",
       "2  let FailureThreshold = 15;\\nimAuthentication\\n...   \n",
       "3  let timeframe = ago(3h);\\nlet threshold = 2;\\n...   \n",
       "4  imAuthentication\\n| where EventResult =='Failu...   \n",
       "\n",
       "                                          attributes  \n",
       "0  {'description': ''Anomaly Rules generate event...  \n",
       "1  {'description': ''Identifies evidence of brute...  \n",
       "2  {'description': ''This query searches for fail...  \n",
       "3  {'description': ''This query searches for succ...  \n",
       "4  {'description': ''Identifies IPs with failed a...  "
      ]
     },
     "execution_count": 8,
     "metadata": {},
     "output_type": "execute_result"
    }
   ],
   "source": [
    "cols = [\"description\", \"techniques\", \"tactics\"]\n",
    "# create new column by merging selected columns into dictionary\n",
    "sentinel_github[\"attributes\"] = sentinel_github[cols].to_dict(orient=\"records\")\n",
    "\n",
    "# select columns and display sample dataframe records\n",
    "select_columns = ['source_path', 'query_name', 'query', 'attributes']\n",
    "sentinel_github[select_columns].head()"
   ]
  },
  {
   "cell_type": "code",
   "execution_count": 26,
   "id": "6129e805-a95b-4f17-b71d-1f9e6eeeba21",
   "metadata": {},
   "outputs": [
    {
     "name": "stdout",
     "output_type": "stream",
     "text": [
      "{'attributes': {'description': \"'Anomaly Rules generate events in the \"\n",
      "                               'Anomalies table. This scheduled rule tries to '\n",
      "                               'detect Anomalies that are not usual, they '\n",
      "                               'could be a type of Anomaly that has recently '\n",
      "                               'been activated, or an infrequent type. The '\n",
      "                               'detected Anomaly should be reviewed, if it is '\n",
      "                               'relevant enough, eventually a separate '\n",
      "                               'scheduled Analytics Rule could be created '\n",
      "                               'specifically for that Anomaly Type, so an '\n",
      "                               'alert and/or incident is generated everytime '\n",
      "                               \"that type of Anomaly happens.'\\n\",\n",
      "                'tactics': [],\n",
      "                'techniques': nan},\n",
      " 'query': '// You can leave out Anomalies that are already monitored through '\n",
      "          'other Analytics Rules\\n'\n",
      "          '//let _MonitoredRules = dynamic([\"TestAlertName\"]);\\n'\n",
      "          'let query_frequency = 1h;\\n'\n",
      "          'let query_lookback = 3d;\\n'\n",
      "          'Anomalies\\n'\n",
      "          '| where TimeGenerated > ago(query_frequency)\\n'\n",
      "          '//| where not(RuleName has_any (_MonitoredRules))\\n'\n",
      "          '| join kind = leftanti (\\n'\n",
      "          '    Anomalies\\n'\n",
      "          '    | where TimeGenerated between (ago(query_frequency + '\n",
      "          'query_lookback)..ago(query_frequency))\\n'\n",
      "          '    | distinct RuleName\\n'\n",
      "          ') on RuleName\\n',\n",
      " 'query_name': 'Unusual Anomaly',\n",
      " 'source_path': 'https://github.com/Azure/Azure-Sentinel/blob/master/Detections/Anomalies/UnusualAnomaly.yaml'}\n"
     ]
    }
   ],
   "source": [
    "# display it as list of dictionary\n",
    "sentinel_github_dict = sentinel_github[select_columns].to_dict(orient=\"records\")\n",
    "pprint(sentinel_github_dict[0])"
   ]
  },
  {
   "cell_type": "markdown",
   "id": "ce4d75b9-47a9-4250-a40c-38594e853714",
   "metadata": {},
   "source": [
    "### KQL - Community Github Repos"
   ]
  },
  {
   "cell_type": "code",
   "execution_count": 15,
   "id": "fa6ca6e7-7e2a-4260-a8bd-73d3318dfed6",
   "metadata": {},
   "outputs": [],
   "source": [
    "# Read yaml config file\n",
    "repos = read_config('repos.yaml')\n",
    "\n",
    "#Compile list of github urls to download\n",
    "repo_urls = []\n",
    "for item in repos:\n",
    "    url = get_repo_urls(item['Github']['repo'],item['Github']['branch'])\n",
    "    repo_urls.append(url)\n",
    "\n",
    "# Set output dir to current directory\n",
    "output_dir = Path.cwd()"
   ]
  },
  {
   "cell_type": "code",
   "execution_count": 16,
   "id": "a527416d-18e0-4245-ae8c-1afdb86d3670",
   "metadata": {},
   "outputs": [
    {
     "name": "stdout",
     "output_type": "stream",
     "text": [
      "Downloading https://github.com/reprise99/Sentinel-Queries/archive/main.zip, may take few mins..\n",
      "Downloaded and Extracted Files successfully\n",
      "Downloading https://github.com/ugurkocde/KQL_Intune/archive/main.zip, may take few mins..\n",
      "Downloaded and Extracted Files successfully\n"
     ]
    }
   ],
   "source": [
    "#download github urls one by one\n",
    "for url in repo_urls:\n",
    "    download_git_archive(url, output_dir)"
   ]
  },
  {
   "cell_type": "code",
   "execution_count": 18,
   "id": "2af68091-346f-4229-970a-1116fd9e2b57",
   "metadata": {},
   "outputs": [
    {
     "name": "stdout",
     "output_type": "stream",
     "text": [
      "{'attributes': {},\n",
      " 'query': '\"//Query to find public IP addresses associated to AWS '\n",
      "          'instances\\\\nAWSCloudTrail\\\\n| where EventName has '\n",
      "          '\\\\\"AllocateAddress\\\\\"\\\\n| extend IPAssigned = '\n",
      "          'tostring(parse_json(ResponseElements).publicIp)\\\\n| extend '\n",
      "          'AllocationID = '\n",
      "          'tostring(parse_json(ResponseElements).allocationId)\\\\n| project '\n",
      "          'TimeGenerated, UserIdentityArn, UserIdentityAccountId, IPAssigned, '\n",
      "          'AllocationID\"',\n",
      " 'query_name': 'AWS-PublicIPAddedtoInstance',\n",
      " 'source_path': 'https://github.com/reprise99/Sentinel-Queries/tree/main/AWS-PublicIPAddedtoInstance.kql'}\n"
     ]
    }
   ],
   "source": [
    "src_path = str(Path.cwd())\n",
    "\n",
    "parsed_kql_files_dict = []\n",
    "\n",
    "for item in repos:\n",
    "    repo_name = item['Github']['repo']\n",
    "    branch_name = item['Github']['branch']\n",
    "    list_of_dict = parse_kql_to_dict(repo_name, branch_name, src_path)\n",
    "    for item in list_of_dict:\n",
    "        parsed_kql_files_dict.append(item)\n",
    "        \n",
    "# display parsed sample record\n",
    "pprint(parsed_kql_files_dict[1])"
   ]
  },
  {
   "cell_type": "markdown",
   "id": "76bf63c2-ffa0-46c6-ad0d-a4e2cfc3b8af",
   "metadata": {},
   "source": [
    "### Markdown - Community Public Github Repos"
   ]
  },
  {
   "cell_type": "code",
   "execution_count": 39,
   "id": "fd84a406-f736-4a35-925d-8223ead769a0",
   "metadata": {},
   "outputs": [
    {
     "name": "stdout",
     "output_type": "stream",
     "text": [
      "Processing 6 markdonw files from repo: reprise99/Sentinel-Queries\n",
      "Processing 3 markdonw files from repo: ugurkocde/KQL_Intune\n"
     ]
    },
    {
     "data": {
      "text/plain": [
       "{'query_name': 'n/a',\n",
       " 'query': 'SigninLogs\\n| where TimeGenerated > ago(14d)\\n| where UserPrincipalName == \"reprise_99@testdomain.com\"\\n| where ResultType == \"0\"\\n| where AppDisplayName == \"Microsoft Teams\"\\n| project TimeGenerated, Location, IPAddress, UserAgent\\n```',\n",
       " 'source_path': 'https://github.com/reprise99/Sentinel-Queries/tree/main/README.md'}"
      ]
     },
     "execution_count": 39,
     "metadata": {},
     "output_type": "execute_result"
    }
   ],
   "source": [
    "src_path = str(Path.cwd())\n",
    "\n",
    "parsed_md_files_dict = []\n",
    "\n",
    "for item in repos:\n",
    "    repo_name = item['Github']['repo']\n",
    "    branch_name = item['Github']['branch']\n",
    "    list_of_dict = parse_markdown_to_dict(repo_name, branch_name, src_path)\n",
    "    for item in list_of_dict:\n",
    "        parsed_md_files_dict.append(item)\n",
    "\n",
    "# Display sample parsed kql query from markdown\n",
    "parsed_md_files_dict[0]"
   ]
  },
  {
   "cell_type": "code",
   "execution_count": 40,
   "id": "45927fa0-e3c8-4c8f-a450-ad89703d908b",
   "metadata": {},
   "outputs": [
    {
     "data": {
      "text/plain": [
       "2906"
      ]
     },
     "execution_count": 40,
     "metadata": {},
     "output_type": "execute_result"
    }
   ],
   "source": [
    "# merging records to create final dataset\n",
    "merged_dict = sentinel_github_dict + parsed_kql_files_dict + parsed_md_files_dict\n",
    "\n",
    "len(merged_dict)"
   ]
  },
  {
   "cell_type": "code",
   "execution_count": 46,
   "id": "5dfd38a4-cc29-4e9c-a32c-00444ca15445",
   "metadata": {},
   "outputs": [],
   "source": [
    "# output final dataset as json\n",
    "with open(\"../data/kql_queries.json\", \"w\") as final:\n",
    "    json.dump(merged_dict, final)"
   ]
  },
  {
   "cell_type": "code",
   "execution_count": 42,
   "id": "eab3689c-03e4-4a8b-abaa-653b51d8a6fb",
   "metadata": {},
   "outputs": [
    {
     "data": {
      "text/html": [
       "<div>\n",
       "<style scoped>\n",
       "    .dataframe tbody tr th:only-of-type {\n",
       "        vertical-align: middle;\n",
       "    }\n",
       "\n",
       "    .dataframe tbody tr th {\n",
       "        vertical-align: top;\n",
       "    }\n",
       "\n",
       "    .dataframe thead th {\n",
       "        text-align: right;\n",
       "    }\n",
       "</style>\n",
       "<table border=\"1\" class=\"dataframe\">\n",
       "  <thead>\n",
       "    <tr style=\"text-align: right;\">\n",
       "      <th></th>\n",
       "      <th>source_path</th>\n",
       "      <th>query_name</th>\n",
       "      <th>query</th>\n",
       "      <th>attributes</th>\n",
       "    </tr>\n",
       "  </thead>\n",
       "  <tbody>\n",
       "    <tr>\n",
       "      <th>0</th>\n",
       "      <td>https://github.com/Azure/Azure-Sentinel/blob/m...</td>\n",
       "      <td>Unusual Anomaly</td>\n",
       "      <td>// You can leave out Anomalies that are alread...</td>\n",
       "      <td>{'description': ''Anomaly Rules generate event...</td>\n",
       "    </tr>\n",
       "    <tr>\n",
       "      <th>1</th>\n",
       "      <td>https://github.com/Azure/Azure-Sentinel/blob/m...</td>\n",
       "      <td>Brute force attack against user credentials (U...</td>\n",
       "      <td>let failureCountThreshold = 10;\\nlet successCo...</td>\n",
       "      <td>{'description': ''Identifies evidence of brute...</td>\n",
       "    </tr>\n",
       "    <tr>\n",
       "      <th>2</th>\n",
       "      <td>https://github.com/Azure/Azure-Sentinel/blob/m...</td>\n",
       "      <td>Potential Password Spray Attack (Uses Authenti...</td>\n",
       "      <td>let FailureThreshold = 15;\\nimAuthentication\\n...</td>\n",
       "      <td>{'description': ''This query searches for fail...</td>\n",
       "    </tr>\n",
       "    <tr>\n",
       "      <th>3</th>\n",
       "      <td>https://github.com/Azure/Azure-Sentinel/blob/m...</td>\n",
       "      <td>User login from different countries within 3 h...</td>\n",
       "      <td>let timeframe = ago(3h);\\nlet threshold = 2;\\n...</td>\n",
       "      <td>{'description': ''This query searches for succ...</td>\n",
       "    </tr>\n",
       "    <tr>\n",
       "      <th>4</th>\n",
       "      <td>https://github.com/Azure/Azure-Sentinel/blob/m...</td>\n",
       "      <td>Sign-ins from IPs that attempt sign-ins to dis...</td>\n",
       "      <td>imAuthentication\\n| where EventResult =='Failu...</td>\n",
       "      <td>{'description': ''Identifies IPs with failed a...</td>\n",
       "    </tr>\n",
       "  </tbody>\n",
       "</table>\n",
       "</div>"
      ],
      "text/plain": [
       "                                         source_path  \\\n",
       "0  https://github.com/Azure/Azure-Sentinel/blob/m...   \n",
       "1  https://github.com/Azure/Azure-Sentinel/blob/m...   \n",
       "2  https://github.com/Azure/Azure-Sentinel/blob/m...   \n",
       "3  https://github.com/Azure/Azure-Sentinel/blob/m...   \n",
       "4  https://github.com/Azure/Azure-Sentinel/blob/m...   \n",
       "\n",
       "                                          query_name  \\\n",
       "0                                    Unusual Anomaly   \n",
       "1  Brute force attack against user credentials (U...   \n",
       "2  Potential Password Spray Attack (Uses Authenti...   \n",
       "3  User login from different countries within 3 h...   \n",
       "4  Sign-ins from IPs that attempt sign-ins to dis...   \n",
       "\n",
       "                                               query  \\\n",
       "0  // You can leave out Anomalies that are alread...   \n",
       "1  let failureCountThreshold = 10;\\nlet successCo...   \n",
       "2  let FailureThreshold = 15;\\nimAuthentication\\n...   \n",
       "3  let timeframe = ago(3h);\\nlet threshold = 2;\\n...   \n",
       "4  imAuthentication\\n| where EventResult =='Failu...   \n",
       "\n",
       "                                          attributes  \n",
       "0  {'description': ''Anomaly Rules generate event...  \n",
       "1  {'description': ''Identifies evidence of brute...  \n",
       "2  {'description': ''This query searches for fail...  \n",
       "3  {'description': ''This query searches for succ...  \n",
       "4  {'description': ''Identifies IPs with failed a...  "
      ]
     },
     "metadata": {},
     "output_type": "display_data"
    }
   ],
   "source": [
    "df = pd.DataFrame.from_dict(merged_dict)\n",
    "display(df.head())"
   ]
  },
  {
   "cell_type": "markdown",
   "id": "eaedb175-e6b9-48c0-9e43-91cfa4bc2a11",
   "metadata": {},
   "source": [
    "## Cleaning up downloaded files from github"
   ]
  },
  {
   "cell_type": "code",
   "execution_count": 43,
   "id": "c2ba8785-8508-4974-8c68-4c3399261e1d",
   "metadata": {},
   "outputs": [],
   "source": [
    "!rm -rf 'Azure-Sentinel-master'"
   ]
  },
  {
   "cell_type": "code",
   "execution_count": 44,
   "id": "845b71a1-d4c5-42ab-86ab-3250ec26674b",
   "metadata": {},
   "outputs": [],
   "source": [
    "!rm -rf 'KQL_Intune-main'"
   ]
  },
  {
   "cell_type": "code",
   "execution_count": 45,
   "id": "4f10f713-1a51-46c8-a3c7-57743826312a",
   "metadata": {},
   "outputs": [],
   "source": [
    "!rm -rf 'Sentinel-Queries-main'"
   ]
  }
 ],
 "metadata": {
  "kernelspec": {
   "display_name": "Python 3 (ipykernel)",
   "language": "python",
   "name": "python3"
  },
  "language_info": {
   "codemirror_mode": {
    "name": "ipython",
    "version": 3
   },
   "file_extension": ".py",
   "mimetype": "text/x-python",
   "name": "python",
   "nbconvert_exporter": "python",
   "pygments_lexer": "ipython3",
   "version": "3.9.10"
  }
 },
 "nbformat": 4,
 "nbformat_minor": 5
}
