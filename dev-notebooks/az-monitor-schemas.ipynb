{
 "cells": [
  {
   "cell_type": "code",
   "execution_count": 18,
   "metadata": {},
   "outputs": [
    {
     "name": "stdout",
     "output_type": "stream",
     "text": [
      "Reading schemas for 11 tables...\n"
     ]
    },
    {
     "name": "stderr",
     "output_type": "stream",
     "text": [
      "  9%|▉         | 1/11 [00:00<00:02,  3.41it/s]"
     ]
    },
    {
     "name": "stdout",
     "output_type": "stream",
     "text": [
      "SecurityAlert Index(['Column', 'Type', 'Description', 'Table', 'Url'], dtype='object')\n"
     ]
    },
    {
     "name": "stderr",
     "output_type": "stream",
     "text": [
      " 18%|█▊        | 2/11 [00:00<00:03,  2.49it/s]"
     ]
    },
    {
     "name": "stdout",
     "output_type": "stream",
     "text": [
      "SecurityBaseline Index(['Column', 'Type', 'Description', 'Table', 'Url'], dtype='object')\n"
     ]
    },
    {
     "name": "stderr",
     "output_type": "stream",
     "text": [
      " 27%|██▋       | 3/11 [00:01<00:03,  2.63it/s]"
     ]
    },
    {
     "name": "stdout",
     "output_type": "stream",
     "text": [
      "SecurityBaselineSummary Index(['Column', 'Type', 'Description', 'Table', 'Url'], dtype='object')\n"
     ]
    },
    {
     "name": "stderr",
     "output_type": "stream",
     "text": [
      " 36%|███▋      | 4/11 [00:01<00:02,  2.79it/s]"
     ]
    },
    {
     "name": "stdout",
     "output_type": "stream",
     "text": [
      "SecurityDetection Index(['Column', 'Type', 'Description', 'Table', 'Url'], dtype='object')\n"
     ]
    },
    {
     "name": "stderr",
     "output_type": "stream",
     "text": [
      " 45%|████▌     | 5/11 [00:01<00:01,  3.21it/s]"
     ]
    },
    {
     "name": "stdout",
     "output_type": "stream",
     "text": [
      "SecurityEvent Index(['Column', 'Type', 'Description', 'Table', 'Url'], dtype='object')\n"
     ]
    },
    {
     "name": "stderr",
     "output_type": "stream",
     "text": [
      " 64%|██████▎   | 7/11 [00:02<00:01,  3.85it/s]"
     ]
    },
    {
     "name": "stdout",
     "output_type": "stream",
     "text": [
      "SecurityIoTRawEvent Index(['Column', 'Type', 'Description', 'Table', 'Url'], dtype='object')\n",
      "SecurityRecommendation Index(['Column', 'Type', 'Description', 'Table', 'Url'], dtype='object')\n"
     ]
    },
    {
     "name": "stderr",
     "output_type": "stream",
     "text": [
      " 73%|███████▎  | 8/11 [00:02<00:00,  3.95it/s]"
     ]
    },
    {
     "name": "stdout",
     "output_type": "stream",
     "text": [
      "SentinelAudit Index(['Column', 'Type', 'Description', 'Table', 'Url'], dtype='object')\n"
     ]
    },
    {
     "name": "stderr",
     "output_type": "stream",
     "text": [
      " 82%|████████▏ | 9/11 [00:02<00:00,  3.85it/s]"
     ]
    },
    {
     "name": "stdout",
     "output_type": "stream",
     "text": [
      "SentinelHealth Index(['Column', 'Type', 'Description', 'Table', 'Url'], dtype='object')\n"
     ]
    },
    {
     "name": "stderr",
     "output_type": "stream",
     "text": [
      " 91%|█████████ | 10/11 [00:02<00:00,  3.77it/s]"
     ]
    },
    {
     "name": "stdout",
     "output_type": "stream",
     "text": [
      "SigninLogs Index(['Column', 'Type', 'Description', 'Table', 'Url'], dtype='object')\n"
     ]
    },
    {
     "name": "stderr",
     "output_type": "stream",
     "text": [
      "100%|██████████| 11/11 [00:03<00:00,  3.47it/s]"
     ]
    },
    {
     "name": "stdout",
     "output_type": "stream",
     "text": [
      "Syslog Index(['Column', 'Type', 'Description', 'Table', 'Url'], dtype='object')\n"
     ]
    },
    {
     "name": "stderr",
     "output_type": "stream",
     "text": [
      "\n"
     ]
    }
   ],
   "source": [
    "from typing import Dict\n",
    "import pandas as pd\n",
    "import requests\n",
    "\n",
    "import bs4\n",
    "from tqdm.auto import tqdm\n",
    "\n",
    "SCHEMA_CATS_URL = \"https://learn.microsoft.com/azure/azure-monitor/reference/tables/tables-category\"\n",
    "\n",
    "def fetch_az_mon_categories() -> requests.models.Response:\n",
    "    \"\"\"Return the AzMonitor reference page.\"\"\"\n",
    "    return requests.get(SCHEMA_CATS_URL)\n",
    "\n",
    "\n",
    "def get_security_category_list(resp: requests.models.Response) -> bs4.element.Tag:\n",
    "    \"\"\"Extract the list after the security header.\"\"\"\n",
    "    soup = bs4.BeautifulSoup(resp.text, \"html.parser\")\n",
    "\n",
    "    result = soup.find(\"div\", class_=\"content\")\n",
    "    sec_header =result.find(\"h2\", id=\"security\")\n",
    "    return sec_header.find_next_sibling()\n",
    "\n",
    "\n",
    "def build_table_index(security_cat_list: bs4.element.Tag) -> Dict[str, Dict[str, str]]:\n",
    "    \"\"\"From the html list, build an index of URLs.\"\"\"\n",
    "    table_prefix = \"https://learn.microsoft.com/azure/azure-monitor/reference/tables/{href}\"\n",
    "    return {\n",
    "        item.a.contents[0]: {\n",
    "            \"href\": item.a.attrs.get(\"href\"),\n",
    "            \"url\": table_prefix.format(**(item.a.attrs)),\n",
    "        }\n",
    "        for item in security_cat_list.find_all(\"li\")\n",
    "    }\n",
    "\n",
    "\n",
    "def read_table_from_url(table: str, ref: Dict[str, str]) -> pd.DataFrame:\n",
    "    \"\"\"Read table schema from a URL.\"\"\"\n",
    "    table_data = pd.read_html(ref[\"url\"])[0]\n",
    "    table_data[\"Table\"] = table\n",
    "    table_data[\"Url\"] = ref[\"url\"]\n",
    "    print(table, table_data.columns)\n",
    "    return table_data\n",
    "\n",
    "\n",
    "def fetch_table_schemas(sec_url_dict: Dict[str, Dict[str, str]]) -> pd.DataFrame:\n",
    "    \"\"\"Combine schema tables into single DF.\"\"\"\n",
    "    print(f\"Reading schemas for {len(sec_url_dict)} tables...\")\n",
    "    all_tables = [\n",
    "        read_table_from_url(table, ref)\n",
    "        for table, ref in tqdm(sec_url_dict.items())\n",
    "    ]\n",
    "    return pd.concat(all_tables, ignore_index=True)\n",
    "\n",
    "\n",
    "\n",
    "sec_cat_list = get_security_category_list(fetch_az_mon_categories())\n",
    "sec_url_dict = build_table_index(sec_cat_list)\n",
    "sec_url_dict = {key: val for key, val in sec_url_dict.items() if key.startswith(\"S\")}\n",
    "comb_tables = fetch_table_schemas(sec_url_dict)"
   ]
  },
  {
   "cell_type": "code",
   "execution_count": 3,
   "metadata": {},
   "outputs": [
    {
     "ename": "NameError",
     "evalue": "name 'comb_tables' is not defined",
     "output_type": "error",
     "traceback": [
      "\u001b[1;31m---------------------------------------------------------------------------\u001b[0m",
      "\u001b[1;31mNameError\u001b[0m                                 Traceback (most recent call last)",
      "\u001b[1;32m~\\AppData\\Local\\Temp\\ipykernel_640980\\1382993768.py\u001b[0m in \u001b[0;36m<module>\u001b[1;34m\u001b[0m\n\u001b[1;32m----> 1\u001b[1;33m \u001b[0mcomb_tables\u001b[0m\u001b[1;33m.\u001b[0m\u001b[0mhead\u001b[0m\u001b[1;33m(\u001b[0m\u001b[1;33m)\u001b[0m\u001b[1;33m\u001b[0m\u001b[1;33m\u001b[0m\u001b[0m\n\u001b[0m",
      "\u001b[1;31mNameError\u001b[0m: name 'comb_tables' is not defined"
     ]
    }
   ],
   "source": [
    "comb_tables.head()"
   ]
  },
  {
   "cell_type": "code",
   "execution_count": 41,
   "metadata": {},
   "outputs": [
    {
     "data": {
      "text/plain": [
       "'{\"SecurityAlert\": {\"url\": \"https://learn.microsoft.com/azure/azure-monitor/reference/tables/securityalert\", \"schema\": {\"Column\": \"AlertLink\", \"Type\": \"string\", \"Description\": NaN}}, \"SecurityBaseline\": {\"url\": \"https://learn.microsoft.com/azure/azure-monitor/reference/tables/securitybaseline\", \"schema\": {\"Column\": \"ActualResult\", \"Type\": \"string\", \"Description\": NaN}}, \"SecurityBaselineSummary\": {\"url\": \"https://learn.microsoft.com/azure/azure-monitor/reference/tables/securitybaselinesummary\", \"schema\": {\"Column\": \"AssessmentId\", \"Type\": \"string\", \"Description\": NaN}}, \"SecurityDetection\": {\"url\": \"https://learn.microsoft.com/azure/azure-monitor/reference/tables/securitydetection\", \"schema\": {\"Column\": \"AccountsSeen\", \"Type\": \"int\", \"Description\": NaN}}, \"SecurityEvent\": {\"url\": \"https://learn.microsoft.com/azure/azure-monitor/reference/tables/securityevent\", \"schema\": {\"Column\": \"AccessMask\", \"Type\": \"string\", \"Description\": NaN}}, \"SecurityIoTRawEvent\": {\"url\": \"https://learn.microsoft.com/azure/azure-monitor/reference/tables/securityiotrawevent\", \"schema\": {\"Column\": \"AgentVersion\", \"Type\": \"string\", \"Description\": NaN}}, \"SecurityRecommendation\": {\"url\": \"https://learn.microsoft.com/azure/azure-monitor/reference/tables/securityrecommendation\", \"schema\": {\"Column\": \"AssessedResourceId\", \"Type\": \"string\", \"Description\": NaN}}, \"SentinelAudit\": {\"url\": \"https://learn.microsoft.com/azure/azure-monitor/reference/tables/sentinelaudit\", \"schema\": {\"Column\": \"CorrelationId\", \"Type\": \"string\", \"Description\": \"A unique record identifier.\"}}, \"SentinelHealth\": {\"url\": \"https://learn.microsoft.com/azure/azure-monitor/reference/tables/sentinelhealth\", \"schema\": {\"Column\": \"Description\", \"Type\": \"string\", \"Description\": \"The operation description.\"}}, \"SigninLogs\": {\"url\": \"https://learn.microsoft.com/azure/azure-monitor/reference/tables/signinlogs\", \"schema\": {\"Column\": \"AADTenantId\", \"Type\": \"string\", \"Description\": NaN}}, \"Syslog\": {\"url\": \"https://learn.microsoft.com/azure/azure-monitor/reference/tables/syslog\", \"schema\": {\"Column\": \"Computer\", \"Type\": \"string\", \"Description\": \"Computer that the event was collected from.\"}}}'"
      ]
     },
     "metadata": {},
     "output_type": "display_data"
    },
    {
     "data": {
      "text/html": [
       "<div>\n",
       "<style scoped>\n",
       "    .dataframe tbody tr th:only-of-type {\n",
       "        vertical-align: middle;\n",
       "    }\n",
       "\n",
       "    .dataframe tbody tr th {\n",
       "        vertical-align: top;\n",
       "    }\n",
       "\n",
       "    .dataframe thead th {\n",
       "        text-align: right;\n",
       "    }\n",
       "</style>\n",
       "<table border=\"1\" class=\"dataframe\">\n",
       "  <thead>\n",
       "    <tr style=\"text-align: right;\">\n",
       "      <th></th>\n",
       "      <th>url</th>\n",
       "      <th>schema</th>\n",
       "    </tr>\n",
       "  </thead>\n",
       "  <tbody>\n",
       "    <tr>\n",
       "      <th>SecurityAlert</th>\n",
       "      <td>https://learn.microsoft.com/azure/azure-monito...</td>\n",
       "      <td>{'Column': 'AlertLink', 'Type': 'string', 'Des...</td>\n",
       "    </tr>\n",
       "    <tr>\n",
       "      <th>SecurityBaseline</th>\n",
       "      <td>https://learn.microsoft.com/azure/azure-monito...</td>\n",
       "      <td>{'Column': 'ActualResult', 'Type': 'string', '...</td>\n",
       "    </tr>\n",
       "    <tr>\n",
       "      <th>SecurityBaselineSummary</th>\n",
       "      <td>https://learn.microsoft.com/azure/azure-monito...</td>\n",
       "      <td>{'Column': 'AssessmentId', 'Type': 'string', '...</td>\n",
       "    </tr>\n",
       "    <tr>\n",
       "      <th>SecurityDetection</th>\n",
       "      <td>https://learn.microsoft.com/azure/azure-monito...</td>\n",
       "      <td>{'Column': 'AccountsSeen', 'Type': 'int', 'Des...</td>\n",
       "    </tr>\n",
       "    <tr>\n",
       "      <th>SecurityEvent</th>\n",
       "      <td>https://learn.microsoft.com/azure/azure-monito...</td>\n",
       "      <td>{'Column': 'AccessMask', 'Type': 'string', 'De...</td>\n",
       "    </tr>\n",
       "    <tr>\n",
       "      <th>SecurityIoTRawEvent</th>\n",
       "      <td>https://learn.microsoft.com/azure/azure-monito...</td>\n",
       "      <td>{'Column': 'AgentVersion', 'Type': 'string', '...</td>\n",
       "    </tr>\n",
       "    <tr>\n",
       "      <th>SecurityRecommendation</th>\n",
       "      <td>https://learn.microsoft.com/azure/azure-monito...</td>\n",
       "      <td>{'Column': 'AssessedResourceId', 'Type': 'stri...</td>\n",
       "    </tr>\n",
       "    <tr>\n",
       "      <th>SentinelAudit</th>\n",
       "      <td>https://learn.microsoft.com/azure/azure-monito...</td>\n",
       "      <td>{'Column': 'CorrelationId', 'Type': 'string', ...</td>\n",
       "    </tr>\n",
       "    <tr>\n",
       "      <th>SentinelHealth</th>\n",
       "      <td>https://learn.microsoft.com/azure/azure-monito...</td>\n",
       "      <td>{'Column': 'Description', 'Type': 'string', 'D...</td>\n",
       "    </tr>\n",
       "    <tr>\n",
       "      <th>SigninLogs</th>\n",
       "      <td>https://learn.microsoft.com/azure/azure-monito...</td>\n",
       "      <td>{'Column': 'AADTenantId', 'Type': 'string', 'D...</td>\n",
       "    </tr>\n",
       "    <tr>\n",
       "      <th>Syslog</th>\n",
       "      <td>https://learn.microsoft.com/azure/azure-monito...</td>\n",
       "      <td>{'Column': 'Computer', 'Type': 'string', 'Desc...</td>\n",
       "    </tr>\n",
       "  </tbody>\n",
       "</table>\n",
       "</div>"
      ],
      "text/plain": [
       "                                                                       url  \\\n",
       "SecurityAlert            https://learn.microsoft.com/azure/azure-monito...   \n",
       "SecurityBaseline         https://learn.microsoft.com/azure/azure-monito...   \n",
       "SecurityBaselineSummary  https://learn.microsoft.com/azure/azure-monito...   \n",
       "SecurityDetection        https://learn.microsoft.com/azure/azure-monito...   \n",
       "SecurityEvent            https://learn.microsoft.com/azure/azure-monito...   \n",
       "SecurityIoTRawEvent      https://learn.microsoft.com/azure/azure-monito...   \n",
       "SecurityRecommendation   https://learn.microsoft.com/azure/azure-monito...   \n",
       "SentinelAudit            https://learn.microsoft.com/azure/azure-monito...   \n",
       "SentinelHealth           https://learn.microsoft.com/azure/azure-monito...   \n",
       "SigninLogs               https://learn.microsoft.com/azure/azure-monito...   \n",
       "Syslog                   https://learn.microsoft.com/azure/azure-monito...   \n",
       "\n",
       "                                                                    schema  \n",
       "SecurityAlert            {'Column': 'AlertLink', 'Type': 'string', 'Des...  \n",
       "SecurityBaseline         {'Column': 'ActualResult', 'Type': 'string', '...  \n",
       "SecurityBaselineSummary  {'Column': 'AssessmentId', 'Type': 'string', '...  \n",
       "SecurityDetection        {'Column': 'AccountsSeen', 'Type': 'int', 'Des...  \n",
       "SecurityEvent            {'Column': 'AccessMask', 'Type': 'string', 'De...  \n",
       "SecurityIoTRawEvent      {'Column': 'AgentVersion', 'Type': 'string', '...  \n",
       "SecurityRecommendation   {'Column': 'AssessedResourceId', 'Type': 'stri...  \n",
       "SentinelAudit            {'Column': 'CorrelationId', 'Type': 'string', ...  \n",
       "SentinelHealth           {'Column': 'Description', 'Type': 'string', 'D...  \n",
       "SigninLogs               {'Column': 'AADTenantId', 'Type': 'string', 'D...  \n",
       "Syslog                   {'Column': 'Computer', 'Type': 'string', 'Desc...  "
      ]
     },
     "metadata": {},
     "output_type": "display_data"
    },
    {
     "data": {
      "text/html": [
       "<div>\n",
       "<style scoped>\n",
       "    .dataframe tbody tr th:only-of-type {\n",
       "        vertical-align: middle;\n",
       "    }\n",
       "\n",
       "    .dataframe tbody tr th {\n",
       "        vertical-align: top;\n",
       "    }\n",
       "\n",
       "    .dataframe thead th {\n",
       "        text-align: right;\n",
       "    }\n",
       "</style>\n",
       "<table border=\"1\" class=\"dataframe\">\n",
       "  <thead>\n",
       "    <tr style=\"text-align: right;\">\n",
       "      <th></th>\n",
       "      <th>SecurityAlert.url</th>\n",
       "      <th>SecurityAlert.schema.Column</th>\n",
       "      <th>SecurityAlert.schema.Type</th>\n",
       "      <th>SecurityAlert.schema.Description</th>\n",
       "      <th>SecurityBaseline.url</th>\n",
       "      <th>SecurityBaseline.schema.Column</th>\n",
       "      <th>SecurityBaseline.schema.Type</th>\n",
       "      <th>SecurityBaseline.schema.Description</th>\n",
       "      <th>SecurityBaselineSummary.url</th>\n",
       "      <th>SecurityBaselineSummary.schema.Column</th>\n",
       "      <th>...</th>\n",
       "      <th>SentinelHealth.schema.Type</th>\n",
       "      <th>SentinelHealth.schema.Description</th>\n",
       "      <th>SigninLogs.url</th>\n",
       "      <th>SigninLogs.schema.Column</th>\n",
       "      <th>SigninLogs.schema.Type</th>\n",
       "      <th>SigninLogs.schema.Description</th>\n",
       "      <th>Syslog.url</th>\n",
       "      <th>Syslog.schema.Column</th>\n",
       "      <th>Syslog.schema.Type</th>\n",
       "      <th>Syslog.schema.Description</th>\n",
       "    </tr>\n",
       "  </thead>\n",
       "  <tbody>\n",
       "    <tr>\n",
       "      <th>0</th>\n",
       "      <td>https://learn.microsoft.com/azure/azure-monito...</td>\n",
       "      <td>AlertLink</td>\n",
       "      <td>string</td>\n",
       "      <td>NaN</td>\n",
       "      <td>https://learn.microsoft.com/azure/azure-monito...</td>\n",
       "      <td>ActualResult</td>\n",
       "      <td>string</td>\n",
       "      <td>NaN</td>\n",
       "      <td>https://learn.microsoft.com/azure/azure-monito...</td>\n",
       "      <td>AssessmentId</td>\n",
       "      <td>...</td>\n",
       "      <td>string</td>\n",
       "      <td>The operation description.</td>\n",
       "      <td>https://learn.microsoft.com/azure/azure-monito...</td>\n",
       "      <td>AADTenantId</td>\n",
       "      <td>string</td>\n",
       "      <td>NaN</td>\n",
       "      <td>https://learn.microsoft.com/azure/azure-monito...</td>\n",
       "      <td>Computer</td>\n",
       "      <td>string</td>\n",
       "      <td>Computer that the event was collected from.</td>\n",
       "    </tr>\n",
       "  </tbody>\n",
       "</table>\n",
       "<p>1 rows × 44 columns</p>\n",
       "</div>"
      ],
      "text/plain": [
       "                                   SecurityAlert.url  \\\n",
       "0  https://learn.microsoft.com/azure/azure-monito...   \n",
       "\n",
       "  SecurityAlert.schema.Column SecurityAlert.schema.Type  \\\n",
       "0                   AlertLink                    string   \n",
       "\n",
       "   SecurityAlert.schema.Description  \\\n",
       "0                               NaN   \n",
       "\n",
       "                                SecurityBaseline.url  \\\n",
       "0  https://learn.microsoft.com/azure/azure-monito...   \n",
       "\n",
       "  SecurityBaseline.schema.Column SecurityBaseline.schema.Type  \\\n",
       "0                   ActualResult                       string   \n",
       "\n",
       "   SecurityBaseline.schema.Description  \\\n",
       "0                                  NaN   \n",
       "\n",
       "                         SecurityBaselineSummary.url  \\\n",
       "0  https://learn.microsoft.com/azure/azure-monito...   \n",
       "\n",
       "  SecurityBaselineSummary.schema.Column  ... SentinelHealth.schema.Type  \\\n",
       "0                          AssessmentId  ...                     string   \n",
       "\n",
       "   SentinelHealth.schema.Description  \\\n",
       "0         The operation description.   \n",
       "\n",
       "                                      SigninLogs.url SigninLogs.schema.Column  \\\n",
       "0  https://learn.microsoft.com/azure/azure-monito...              AADTenantId   \n",
       "\n",
       "  SigninLogs.schema.Type  SigninLogs.schema.Description  \\\n",
       "0                 string                            NaN   \n",
       "\n",
       "                                          Syslog.url Syslog.schema.Column  \\\n",
       "0  https://learn.microsoft.com/azure/azure-monito...             Computer   \n",
       "\n",
       "  Syslog.schema.Type                    Syslog.schema.Description  \n",
       "0             string  Computer that the event was collected from.  \n",
       "\n",
       "[1 rows x 44 columns]"
      ]
     },
     "metadata": {},
     "output_type": "display_data"
    }
   ],
   "source": [
    "t_dict = {}\n",
    "for table, df in comb_tables.groupby(\"Table\"):\n",
    "    url = df.iloc[0][\"Url\"]\n",
    "    t_dict[table] = {\n",
    "        \"url\": url,\n",
    "        \"schema\": df.drop(columns=[\"Table\", \"Url\"]).to_dict(orient=\"records\")[0]\n",
    "    }\n",
    "\n",
    "t_dict\n",
    "import json\n",
    "display(json.dumps(t_dict))\n",
    "display(pd.read_json(json.dumps(t_dict), orient=\"index\"))\n",
    "display(pd.json_normalize(t_dict))"
   ]
  },
  {
   "cell_type": "code",
   "execution_count": 2,
   "metadata": {},
   "outputs": [
    {
     "ename": "NameError",
     "evalue": "name 'comb_tables' is not defined",
     "output_type": "error",
     "traceback": [
      "\u001b[1;31m---------------------------------------------------------------------------\u001b[0m",
      "\u001b[1;31mNameError\u001b[0m                                 Traceback (most recent call last)",
      "\u001b[1;32m~\\AppData\\Local\\Temp\\ipykernel_640980\\4275042129.py\u001b[0m in \u001b[0;36m<module>\u001b[1;34m\u001b[0m\n\u001b[1;32m----> 1\u001b[1;33m \u001b[0mcomb_tables\u001b[0m\u001b[1;33m[\u001b[0m\u001b[1;34m\"Table\"\u001b[0m\u001b[1;33m]\u001b[0m\u001b[1;33m.\u001b[0m\u001b[0munique\u001b[0m\u001b[1;33m(\u001b[0m\u001b[1;33m)\u001b[0m\u001b[1;33m\u001b[0m\u001b[1;33m\u001b[0m\u001b[0m\n\u001b[0m",
      "\u001b[1;31mNameError\u001b[0m: name 'comb_tables' is not defined"
     ]
    }
   ],
   "source": [
    "comb_tables[\"Table\"].unique()"
   ]
  }
 ],
 "metadata": {
  "kernelspec": {
   "display_name": "Python 3.9.7 ('msticpy')",
   "language": "python",
   "name": "python3"
  },
  "language_info": {
   "codemirror_mode": {
    "name": "ipython",
    "version": 3
   },
   "file_extension": ".py",
   "mimetype": "text/x-python",
   "name": "python",
   "nbconvert_exporter": "python",
   "pygments_lexer": "ipython3",
   "version": "3.9.7"
  },
  "orig_nbformat": 4,
  "vscode": {
   "interpreter": {
    "hash": "0f1a8e166ce5c1ec1911a36e4fdbd34b2f623e2a3442791008b8ac429a1d6070"
   }
  }
 },
 "nbformat": 4,
 "nbformat_minor": 2
}
